{
  "nbformat": 4,
  "nbformat_minor": 0,
  "metadata": {
    "colab": {
      "provenance": []
    },
    "kernelspec": {
      "name": "python3",
      "display_name": "Python 3"
    },
    "language_info": {
      "name": "python"
    }
  },
  "cells": [
    {
      "cell_type": "code",
      "execution_count": null,
      "metadata": {
        "id": "DMGYxMWh6kF2"
      },
      "outputs": [],
      "source": [
        "!curl -O https://www.antlr.org/download/antlr-4.13.2-complete.jar &> /dev/null"
      ]
    },
    {
      "cell_type": "code",
      "source": [
        "!pip install -U antlr4-python3-runtime &> /dev/null"
      ],
      "metadata": {
        "id": "vA1xvzvq7J8u"
      },
      "execution_count": null,
      "outputs": []
    },
    {
      "cell_type": "code",
      "source": [
        "%%file ToDoLang.g4\n",
        "grammar ToDoLang;\n",
        "\n",
        "// --------- Parser ---------\n",
        "\n",
        "program\n",
        "    : stmt* EOF\n",
        "    ;\n",
        "\n",
        "// Cada sentencia puede ser de varios tipos\n",
        "stmt\n",
        "    : taskDecl                    # stmtTask\n",
        "    | categoryDecl                # stmtCategory\n",
        "    | doneStmt                    # stmtDone\n",
        "    | showStmt                    # stmtShow\n",
        "    | ID ':' decltype '=' expr ';'# stmtAssign   // integración estilo compilador clásico x : int = 2 + 3 * 4;\n",
        "    ;\n",
        "\n",
        "// --------- Tareas ---------\n",
        "\n",
        "taskDecl\n",
        "    : 'task' STRING 'priority' PRIORITY ('deadline' DATE)? (statusDecl)? ';'\n",
        "    ;\n",
        "\n",
        "doneStmt\n",
        "    : 'done' STRING ';'\n",
        "    ;\n",
        "\n",
        "showStmt\n",
        "    : 'show' ( 'all' | 'pending' | 'done' | 'priority' PRIORITY ) ';'\n",
        "    ;\n",
        "\n",
        "categoryDecl\n",
        "    : 'category' STRING '{' taskDecl* '}'\n",
        "    ;\n",
        "\n",
        "statusDecl\n",
        "    : STATUS\n",
        "    ;\n",
        "\n",
        "// --------- Expresiones (inspirado en Calc) ---------\n",
        "\n",
        "expr\n",
        "    : '-' expr                        # exprNeg\n",
        "    | <assoc=right> expr '^' expr     # exprPow\n",
        "    | expr ('*'|'/'|'//'|'%') expr    # exprMulDiv\n",
        "    | expr ('+'|'-') expr             # exprAddSub\n",
        "    | '(' expr ')'                    # exprPar\n",
        "    | num                             # exprLiteral\n",
        "    | ID                              # exprVar\n",
        "    ;\n",
        "\n",
        "num : INT | FLOAT ;\n",
        "decltype : TINT | TFLOAT ;\n",
        "\n",
        "// --------- Lexer ---------\n",
        "\n",
        "PRIORITY : 'low' | 'medium' | 'high' ;\n",
        "STATUS   : 'done' | 'pending' ;\n",
        "DATE     : [0-9]{4} '-' [0-9]{2} '-' [0-9]{2} ;\n",
        "STRING   : '\"' (~[\"\\r\\n\"])* '\"' ;\n",
        "\n",
        "POW    : '^' ;\n",
        "ADD    : '+' ;\n",
        "SUB    : '-' ;\n",
        "MUL    : '*' ;\n",
        "DIV    : '/' ;\n",
        "INTDIV : '//' ;\n",
        "MOD    : '%' ;\n",
        "ASSIGN : '=' ;\n",
        "LPAR   : '(' ;\n",
        "RPAR   : ')' ;\n",
        "COLON  : ':' ;\n",
        "\n",
        "TINT   : 'int' ;\n",
        "TFLOAT : 'float' ;\n",
        "\n",
        "ID    : [A-Za-z_][A-Za-z_0-9]* ;\n",
        "INT   : [0-9]+ ;\n",
        "FLOAT : [0-9]+'.'[0-9]+ ;\n",
        "\n",
        "WS  : [ \\t\\n\\r]+ -> skip ;\n",
        "COMMENT : '//' ~[\\r\\n]* -> skip ;"
      ],
      "metadata": {
        "id": "TTZa8xj_9hwh",
        "colab": {
          "base_uri": "https://localhost:8080/"
        },
        "outputId": "40725d3c-6d69-4580-d7f2-18c84c425182"
      },
      "execution_count": null,
      "outputs": [
        {
          "output_type": "stream",
          "name": "stdout",
          "text": [
            "Overwriting ToDoLang.g4\n"
          ]
        }
      ]
    },
    {
      "cell_type": "code",
      "source": [
        "!java -cp .:antlr-4.13.2-complete.jar org.antlr.v4.Tool ToDoLang.g4 -no-listener -visitor -Dlanguage=Python3"
      ],
      "metadata": {
        "id": "CtMkhVK-7QeA",
        "colab": {
          "base_uri": "https://localhost:8080/"
        },
        "outputId": "6897247d-f944-43c3-c9a6-63dbe4c281e2"
      },
      "execution_count": null,
      "outputs": [
        {
          "output_type": "stream",
          "name": "stdout",
          "text": [
            "warning(180): ToDoLang.g4:60:17: chars \" used multiple times in set [\"\\r\\n\"]\n"
          ]
        }
      ]
    },
    {
      "cell_type": "code",
      "source": [
        "from antlr4 import *\n",
        "from ToDoLangLexer import ToDoLangLexer\n",
        "from ToDoLangParser import ToDoLangParser\n",
        "from ToDoLangVisitor import ToDoLangVisitor"
      ],
      "metadata": {
        "id": "FEozdnIH7TuA"
      },
      "execution_count": null,
      "outputs": []
    },
    {
      "cell_type": "code",
      "source": [
        "%%writefile Visitor.py\n",
        "from ToDoLangParser import ToDoLangParser\n",
        "from ToDoLangVisitor import ToDoLangVisitor\n",
        "\n",
        "class Visitor(ToDoLangVisitor):\n",
        "    def __init__(self):\n",
        "        # Tabla de símbolos para variables aritméticas\n",
        "        self.symb = {}\n",
        "        # Almacenamiento de tareas\n",
        "        self.tasks = {}\n",
        "\n",
        "    # -----------------------------\n",
        "    # Programa\n",
        "    # -----------------------------\n",
        "    def visitProgram(self, ctx:ToDoLangParser.ProgramContext):\n",
        "        self.visitChildren(ctx)\n",
        "        return None\n",
        "\n",
        "    # -----------------------------\n",
        "    # Tareas\n",
        "    # -----------------------------\n",
        "    def visitTaskDecl(self, ctx:ToDoLangParser.TaskDeclContext):\n",
        "        taskName = ctx.STRING().getText().strip('\"')\n",
        "        priority = ctx.PRIORITY().getText()\n",
        "        deadline = ctx.DATE().getText() if ctx.DATE() else None\n",
        "        status = ctx.statusDecl().STATUS().getText() if ctx.statusDecl() and ctx.statusDecl().STATUS() else 'pending'\n",
        "\n",
        "\n",
        "        self.tasks[taskName] = {\n",
        "            \"priority\": priority,\n",
        "            \"deadline\": deadline,\n",
        "            \"status\": status\n",
        "        }\n",
        "        print(f\"[Nueva tarea] {taskName} (priority={priority}, deadline={deadline}, status={status})\")\n",
        "        return None\n",
        "\n",
        "    def visitDoneStmt(self, ctx:ToDoLangParser.DoneStmtContext):\n",
        "        taskName = ctx.STRING().getText().strip('\"')\n",
        "        if taskName in self.tasks:\n",
        "            self.tasks[taskName][\"status\"] = \"done\"\n",
        "            print(f\"[Update] Tarea '{taskName}' marcada como done\")\n",
        "        else:\n",
        "            print(f\"[Error] Tarea '{taskName}' no existe\")\n",
        "        return None\n",
        "\n",
        "    def visitShowStmt(self, ctx:ToDoLangParser.ShowStmtContext):\n",
        "        filterType = ctx.getText().replace(\"show\", \"\").replace(\";\", \"\").strip()\n",
        "        print(f\"[Mostrar] Filtro = {filterType}\")\n",
        "\n",
        "        if not isinstance(self.tasks, dict):\n",
        "            self.tasks = {}\n",
        "            print(\"[Warning] self.tasks was not a dictionary. Initialized as empty dictionary.\")\n",
        "\n",
        "        for name, info in self.tasks.items():\n",
        "            if filterType == \"all\":\n",
        "                print(f\" - {name}: {info}\")\n",
        "            elif filterType == \"pending\" and info[\"status\"] == \"pending\":\n",
        "                print(f\" - {name}: {info}\")\n",
        "            elif filterType == \"done\" and info[\"status\"] == \"done\":\n",
        "                print(f\" - {name}: {info}\")\n",
        "            elif filterType.startswith(\"priority\") and info[\"priority\"] in filterType:\n",
        "                print(f\" - {name}: {info}\")\n",
        "        return None\n",
        "\n",
        "    def visitCategoryDecl(self, ctx:ToDoLangParser.CategoryDeclContext):\n",
        "        categoryName = ctx.STRING().getText().strip('\"')\n",
        "        print(f\"[Categoría] {categoryName}\")\n",
        "        self.visitChildren(ctx)\n",
        "        return None\n",
        "\n",
        "    # -----------------------------\n",
        "    # Expresiones aritméticas\n",
        "    # -----------------------------\n",
        "    def visitStmtAssign(self, ctx:ToDoLangParser.StmtAssignContext):\n",
        "        varType = self.visit(ctx.decltype())\n",
        "        varName = ctx.ID().getText()\n",
        "        exprValue, exprType  = self.visit(ctx.expr())\n",
        "\n",
        "        if exprType == varType:\n",
        "            self.symb[varName] = (exprValue, varType)\n",
        "        else:\n",
        "            # Casting automático\n",
        "            if varType == 'int':\n",
        "                self.symb[varName] = (int(exprValue), varType)\n",
        "            else:\n",
        "                self.symb[varName] = (float(exprValue), varType)\n",
        "        print(f\"[Asignación] {varName}:{varType} = {self.symb[varName][0]}\")\n",
        "        return None\n",
        "\n",
        "    def visitExprNeg(self, ctx:ToDoLangParser.ExprNegContext):\n",
        "        exprValue, exprType = self.visit(ctx.expr())\n",
        "        return (-exprValue, exprType)\n",
        "\n",
        "    def visitExprPar(self, ctx:ToDoLangParser.ExprParContext):\n",
        "        return self.visit(ctx.expr())\n",
        "\n",
        "    def visitExprAddSub(self, ctx:ToDoLangParser.ExprAddSubContext):\n",
        "        lhsValue, lhsType = self.visit(ctx.expr(0))\n",
        "        rhsValue, rhsType = self.visit(ctx.expr(1))\n",
        "        if lhsType == 'float' or rhsType == 'float':\n",
        "            resultType = 'float'\n",
        "            lhsValue = float(lhsValue)\n",
        "            rhsValue = float(rhsValue)\n",
        "        else:\n",
        "            resultType = 'int'\n",
        "        if ctx.ADD():\n",
        "            return (lhsValue + rhsValue, resultType)\n",
        "        else:\n",
        "            return (lhsValue - rhsValue, resultType)\n",
        "\n",
        "    def visitExprVar(self, ctx:ToDoLangParser.ExprVarContext):\n",
        "        varName = ctx.ID().getText()\n",
        "        if varName not in self.symb:\n",
        "            raise Exception(f'Variable {varName} no declarada')\n",
        "        return self.symb[varName]\n",
        "\n",
        "    def visitExprLiteral(self, ctx:ToDoLangParser.ExprLiteralContext):\n",
        "        return self.visit(ctx.num())\n",
        "\n",
        "    def visitNum(self, ctx:ToDoLangParser.NumContext):\n",
        "        if ctx.INT():\n",
        "            return (int(ctx.INT().getText()), 'int')\n",
        "        else:\n",
        "            return (float(ctx.FLOAT().getText()), 'float')\n",
        "\n",
        "    def visitDecltype(self, ctx:ToDoLangParser.DecltypeContext):\n",
        "        return ctx.getText()\n",
        "\n",
        "    def visitExprMulDiv(self, ctx:ToDoLangParser.ExprMulDivContext):\n",
        "        lhsValue, lhsType = self.visit(ctx.expr(0))\n",
        "        rhsValue, rhsType = self.visit(ctx.expr(1))\n",
        "        if ctx.INTDIV() or ctx.MOD():\n",
        "            lhsValue = int(lhsValue)\n",
        "            rhsValue = int(rhsValue)\n",
        "            if ctx.INTDIV():\n",
        "                return (lhsValue // rhsValue, 'int')\n",
        "            else:\n",
        "                return (lhsValue % rhsValue, 'int')\n",
        "\n",
        "        if lhsType == 'float' or rhsType == 'float':\n",
        "            resultType = 'float'\n",
        "            lhsValue = float(lhsValue)\n",
        "            rhsValue = float(rhsValue)\n",
        "        else:\n",
        "            resultType = 'int'\n",
        "\n",
        "        if ctx.MUL():\n",
        "            return (lhsValue * rhsValue, resultType)\n",
        "        elif resultType == 'int':\n",
        "            return (lhsValue // rhsValue, resultType)\n",
        "        else:\n",
        "            return (lhsValue / rhsValue, resultType)"
      ],
      "metadata": {
        "id": "b_7WLqyMVxAb",
        "colab": {
          "base_uri": "https://localhost:8080/"
        },
        "outputId": "02ccfcc1-7e7d-4cf8-eca2-c56f90e31e7b"
      },
      "execution_count": null,
      "outputs": [
        {
          "output_type": "stream",
          "name": "stdout",
          "text": [
            "Overwriting Visitor.py\n"
          ]
        }
      ]
    },
    {
      "cell_type": "code",
      "source": [
        "%%file ej1.xyz\n",
        "task \"Estudiar ANTLR\" priority high deadline 2025-10-05 pending;\n",
        "task \"Comprar pan\" priority low done;\n",
        "\n",
        "show all;\n",
        "done \"Estudiar ANTLR\";\n",
        "show done;\n",
        "\n",
        "x : int = 2 + 3 * 4;\n",
        "y : float = x / 2.0;"
      ],
      "metadata": {
        "id": "ZzpxZjvY7mZa",
        "colab": {
          "base_uri": "https://localhost:8080/"
        },
        "outputId": "8e9d38d0-24a4-482d-bfde-7b569e96d323"
      },
      "execution_count": null,
      "outputs": [
        {
          "output_type": "stream",
          "name": "stdout",
          "text": [
            "Overwriting ej1.xyz\n"
          ]
        }
      ]
    },
    {
      "cell_type": "code",
      "source": [
        "from antlr4 import *\n",
        "from ToDoLangLexer import ToDoLangLexer\n",
        "from ToDoLangParser import ToDoLangParser\n",
        "\n",
        "from Visitor import Visitor\n",
        "import sys\n",
        "\n",
        "input_stream = FileStream('ej1.xyz')\n",
        "\n",
        "lexer = ToDoLangLexer(input_stream)\n",
        "token_stream = CommonTokenStream(lexer)\n",
        "parser = ToDoLangParser(token_stream)\n",
        "\n",
        "tree = parser.program()\n",
        "\n",
        "visitor = Visitor()\n",
        "visitor.visit(tree)"
      ],
      "metadata": {
        "colab": {
          "base_uri": "https://localhost:8080/"
        },
        "id": "jLJrJwSjHq5k",
        "outputId": "d04bdf03-acfe-40dc-ff6e-709090c9038f"
      },
      "execution_count": null,
      "outputs": [
        {
          "output_type": "stream",
          "name": "stdout",
          "text": [
            "[Nueva tarea] Estudiar ANTLR (priority=high, deadline=None, status=pending)\n",
            "[Nueva tarea] Comprar pan (priority=low, deadline=None, status=pending)\n",
            "[Mostrar] Filtro = all\n",
            " - Estudiar ANTLR: {'priority': 'high', 'deadline': None, 'status': 'pending'}\n",
            " - Comprar pan: {'priority': 'low', 'deadline': None, 'status': 'pending'}\n",
            "[Update] Tarea 'Estudiar ANTLR' marcada como done\n",
            "[Mostrar] Filtro = done\n",
            " - Estudiar ANTLR: {'priority': 'high', 'deadline': None, 'status': 'done'}\n",
            "[Asignación] x:int = 14\n",
            "[Asignación] y:float = 7.0\n"
          ]
        },
        {
          "output_type": "stream",
          "name": "stderr",
          "text": [
            "line 1:45 mismatched input '2025' expecting DATE\n",
            "line 2:32 extraneous input 'done' expecting {';', 'deadline', 'status'}\n"
          ]
        }
      ]
    },
    {
      "cell_type": "code",
      "metadata": {
        "colab": {
          "base_uri": "https://localhost:8080/"
        },
        "id": "2ba1283a",
        "outputId": "2f0a0484-dc45-47e8-c854-8a02308b002f"
      },
      "source": [
        "!java -cp .:antlr-4.13.2-complete.jar org.antlr.v4.Tool ToDoLang.g4 -no-listener -visitor -Dlanguage=Python3"
      ],
      "execution_count": null,
      "outputs": [
        {
          "output_type": "stream",
          "name": "stdout",
          "text": [
            "warning(180): ToDoLang.g4:60:17: chars \" used multiple times in set [\"\\r\\n\"]\n"
          ]
        }
      ]
    }
  ]
}